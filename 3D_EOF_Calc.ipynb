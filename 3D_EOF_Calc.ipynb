{
 "cells": [
  {
   "cell_type": "code",
   "execution_count": null,
   "metadata": {},
   "outputs": [],
   "source": [
    "# Computing EOFs in 3D for 1x1 deg grid\n",
    "# This is for all the depths up to 5500m \n",
    "# This calculation is ONLY the EOF calculation."
   ]
  },
  {
   "cell_type": "code",
   "execution_count": 1,
   "metadata": {},
   "outputs": [],
   "source": [
    "import numpy as np\n",
    "\n",
    "from numpy import meshgrid\n",
    "import scipy.io as sc\n",
    "import os\n",
    "from pprint import pprint\n",
    "import matplotlib.pyplot as plt\n",
    "import scipy.linalg as la\n",
    "import pandas as pd\n",
    "from numpy import linspace\n",
    "from numpy import meshgrid"
   ]
  },
  {
   "cell_type": "markdown",
   "metadata": {},
   "source": [
    "## Reading in all the data"
   ]
  },
  {
   "cell_type": "markdown",
   "metadata": {},
   "source": [
    "All data are in matlab files. This data is remote sensing data from JPL’s non-Boussinesq ocean general circulation model (OGCM). Remember to change to the appropriate directory to access each matlab file."
   ]
  },
  {
   "cell_type": "code",
   "execution_count": 2,
   "metadata": {},
   "outputs": [],
   "source": [
    "depths = [5, 10, 20, 30, 50, 75, 100, 125, 150, 200, 250, 300, 400, 500, 600, 700, 800, 900, 1000, 1100, 1200, 1300, 1400, 1500, 1750, 2000]"
   ]
  },
  {
   "cell_type": "code",
   "execution_count": 3,
   "metadata": {},
   "outputs": [],
   "source": [
    "#All Depths\n",
    "depths = [5, 10, 20, 30, 50, 75, 100, 125, 150, 200, 250, 300, 400, 500, 600, 700, 800, 900, 1000, 1100, 1200, 1300, 1400, 1500, 1750, 2000, 3000, 3500, 4000, 4500, 5000, 5500]"
   ]
  },
  {
   "cell_type": "code",
   "execution_count": 4,
   "metadata": {},
   "outputs": [],
   "source": [
    "month = 'Dec'\n",
    "start_num = 133"
   ]
  },
  {
   "cell_type": "code",
   "execution_count": 5,
   "metadata": {},
   "outputs": [],
   "source": [
    "os.chdir(r'/Users/danilafarga/Desktop/SSS_Ocean/BIG_DATA/OGCM_1x1/'+month)"
   ]
  },
  {
   "cell_type": "code",
   "execution_count": 6,
   "metadata": {},
   "outputs": [],
   "source": [
    "# putting all files into data directory\n",
    "data = {}\n",
    "for file in os.listdir():\n",
    "    if \".mat\" in file:\n",
    "        data[file] = sc.loadmat(file)[\"data\"][:,:,:]"
   ]
  },
  {
   "cell_type": "code",
   "execution_count": 7,
   "metadata": {},
   "outputs": [],
   "source": [
    "# reformating data so that it is in order of depth long lat\n",
    "data_T = np.empty((360*180*33,54)) * np.nan\n",
    "for i in range(1950,2004):\n",
    "    for j in range(33):\n",
    "        data_T[360*180*j:360*180*(j+1), i-1950] = data[str(12*(i-1950)+ start_num)+  '_' +  month + '_' + str(i) +'_5m-5500m_1x1.mat'][:,:,j].flatten()\n",
    "data_T = np.mat(data_T)"
   ]
  },
  {
   "cell_type": "code",
   "execution_count": 8,
   "metadata": {},
   "outputs": [
    {
     "data": {
      "text/plain": [
       "(2138400, 54)"
      ]
     },
     "execution_count": 8,
     "metadata": {},
     "output_type": "execute_result"
    }
   ],
   "source": [
    "# shape should be N = 360(long) * 180(lat) * 33(depths) by 54 years\n",
    "data_T.shape"
   ]
  },
  {
   "cell_type": "markdown",
   "metadata": {},
   "source": [
    "depths are defined based on matlab files. This calculation is in 3D so it will take into account every depth up to the limit set by the user. There are 33 depths in total. "
   ]
  },
  {
   "cell_type": "code",
   "execution_count": 9,
   "metadata": {},
   "outputs": [
    {
     "name": "stdout",
     "output_type": "stream",
     "text": [
      "(2073600, 54)\n"
     ]
    }
   ],
   "source": [
    "#need to get rid of the EOFs at depth of 40m\n",
    "depth_index = 4\n",
    "data_T  = np.delete(data_T, slice(64800 * depth_index, 64800 * (depth_index + 1)), axis = 0)\n",
    "pprint(data_T.shape)"
   ]
  },
  {
   "cell_type": "code",
   "execution_count": 10,
   "metadata": {},
   "outputs": [],
   "source": [
    "# shortening the data so that it only has a specific amount of depths and not all depths \n",
    "tot_depths = 32"
   ]
  },
  {
   "cell_type": "markdown",
   "metadata": {},
   "source": [
    "## Only if you need to shorten data"
   ]
  },
  {
   "cell_type": "code",
   "execution_count": 13,
   "metadata": {},
   "outputs": [],
   "source": [
    "# Verifying the index is correct. Output should be 2000.\n",
    "# Note since indexing starts at zero we subtract one from the total depths\n",
    "depths[tot_depths-1]\n",
    "# redifine data_T so it is shorter IF THAT IS WHAT WE NEED\n",
    "data_T = data_T[0:360*180*tot_depths,:]"
   ]
  },
  {
   "cell_type": "code",
   "execution_count": 12,
   "metadata": {},
   "outputs": [
    {
     "data": {
      "text/plain": [
       "(2073600, 54)"
      ]
     },
     "execution_count": 12,
     "metadata": {},
     "output_type": "execute_result"
    }
   ],
   "source": [
    "# shape should be N = 360(long) * 180(lat) * (depths) by 54 years\n",
    "\n",
    "data_T.shape"
   ]
  },
  {
   "cell_type": "markdown",
   "metadata": {},
   "source": [
    "## Compute Standard Deviation and Climatology"
   ]
  },
  {
   "cell_type": "code",
   "execution_count": 11,
   "metadata": {},
   "outputs": [],
   "source": [
    "N = data_T.shape[0] # total number of points\n",
    "Y = data_T.shape[1] # total number of years"
   ]
  },
  {
   "cell_type": "markdown",
   "metadata": {},
   "source": [
    "np.nanmean and np.nanstd computes the average and standard deviation for the rows (hence axis = 1) of the data. The command takes into account the NaNs for the data"
   ]
  },
  {
   "cell_type": "code",
   "execution_count": 12,
   "metadata": {},
   "outputs": [],
   "source": [
    "import warnings\n",
    "\n",
    "# I expect to see RuntimeWarnings in this block\n",
    "\n",
    "with warnings.catch_warnings():\n",
    "    warnings.simplefilter(\"ignore\", category=RuntimeWarning)\n",
    "    clim = np.nanmean(data_T, axis = 1)   # climatology  \n",
    "    sdev = np.nanstd(data_T, axis = 1)    # standard deviation\n",
    "clim_sdev = np.column_stack((clim, sdev)) # save this as one matrix "
   ]
  },
  {
   "cell_type": "markdown",
   "metadata": {},
   "source": [
    "## Compute anomalies"
   ]
  },
  {
   "cell_type": "markdown",
   "metadata": {},
   "source": [
    "Details of computing anomalies is in this post https://dlafarga.github.io/journal/python_start.html\n"
   ]
  },
  {
   "cell_type": "code",
   "execution_count": 13,
   "metadata": {},
   "outputs": [
    {
     "data": {
      "text/plain": [
       "(2073600, 54)"
      ]
     },
     "execution_count": 13,
     "metadata": {},
     "output_type": "execute_result"
    }
   ],
   "source": [
    "anom = data_T - clim\n",
    "anom.shape"
   ]
  },
  {
   "cell_type": "markdown",
   "metadata": {},
   "source": [
    "# Calc Standardized Anom"
   ]
  },
  {
   "cell_type": "markdown",
   "metadata": {},
   "source": [
    "Standardized anomalies are anomalies divided by standard deviation"
   ]
  },
  {
   "cell_type": "code",
   "execution_count": 14,
   "metadata": {},
   "outputs": [],
   "source": [
    "np.seterr(divide='ignore', invalid='ignore') # runtime error will appear because of truncation\n",
    "stnd_anom = anom/sdev"
   ]
  },
  {
   "cell_type": "markdown",
   "metadata": {},
   "source": [
    "## Compute area weighted Anom"
   ]
  },
  {
   "cell_type": "markdown",
   "metadata": {},
   "source": [
    "Each Anom has to be multiplied by a weight to project data onto a physical surface. This weight takes into account lattitude and thickness of depth. "
   ]
  },
  {
   "cell_type": "code",
   "execution_count": 15,
   "metadata": {},
   "outputs": [],
   "source": [
    "import math"
   ]
  },
  {
   "cell_type": "code",
   "execution_count": 16,
   "metadata": {},
   "outputs": [],
   "source": [
    "# lattitude values\n",
    "x = linspace(-180, 180, 360)\n",
    "y = linspace(-90, 90, 180)\n",
    "\n",
    "xx, yy = meshgrid(x, y)\n",
    "\n",
    "yy = yy.transpose()\n",
    "y_temp = yy.flatten()"
   ]
  },
  {
   "cell_type": "code",
   "execution_count": 17,
   "metadata": {},
   "outputs": [],
   "source": [
    "# area weight for lattitude values\n",
    "area_w = np.cos(y_temp*math.pi/180)"
   ]
  },
  {
   "cell_type": "code",
   "execution_count": 18,
   "metadata": {},
   "outputs": [],
   "source": [
    "# area weights for depth\n",
    "area_weight = []\n",
    "\n",
    "for i in range(tot_depths):\n",
    "    #area_weight.append(area_w) # first depth thickness is just 0-5m\n",
    "    if i == 0:\n",
    "        area_weight.append(np.sqrt(5 * area_w)) # first depth thickness is just 0-5m\n",
    "    else:\n",
    "        area_weight.append( np.sqrt((depths[i] - depths[i - 1]) * area_w))"
   ]
  },
  {
   "cell_type": "code",
   "execution_count": 19,
   "metadata": {},
   "outputs": [
    {
     "data": {
      "text/plain": [
       "(2073600, 1)"
      ]
     },
     "execution_count": 19,
     "metadata": {},
     "output_type": "execute_result"
    }
   ],
   "source": [
    "# Turning weights into one array\n",
    "area_weight = np.mat(area_weight)\n",
    "area_weight = area_weight.flatten()\n",
    "area_weight = area_weight.transpose()\n",
    "area_weight.shape"
   ]
  },
  {
   "cell_type": "code",
   "execution_count": 20,
   "metadata": {},
   "outputs": [
    {
     "data": {
      "text/plain": [
       "(2073600, 54)"
      ]
     },
     "execution_count": 20,
     "metadata": {},
     "output_type": "execute_result"
    }
   ],
   "source": [
    "weighted_A = np.empty((N,Y)) * np.nan\n",
    "weighted_A = np.multiply(anom , area_weight)\n",
    "weighted_A.shape"
   ]
  },
  {
   "cell_type": "markdown",
   "metadata": {},
   "source": [
    "##  Using EOF Solver"
   ]
  },
  {
   "cell_type": "code",
   "execution_count": 24,
   "metadata": {},
   "outputs": [],
   "source": [
    "from eofs.standard import Eof"
   ]
  },
  {
   "cell_type": "code",
   "execution_count": 25,
   "metadata": {},
   "outputs": [],
   "source": [
    "dat = np.array(weighted_A.T)"
   ]
  },
  {
   "cell_type": "code",
   "execution_count": 26,
   "metadata": {},
   "outputs": [],
   "source": [
    "solver = Eof(dat)"
   ]
  },
  {
   "cell_type": "code",
   "execution_count": 27,
   "metadata": {},
   "outputs": [
    {
     "data": {
      "text/plain": [
       "(2073600, 54)"
      ]
     },
     "execution_count": 27,
     "metadata": {},
     "output_type": "execute_result"
    }
   ],
   "source": [
    "eofs = solver.eofs()\n",
    "eofs = eofs.T\n",
    "eofs.shape"
   ]
  },
  {
   "cell_type": "code",
   "execution_count": 28,
   "metadata": {},
   "outputs": [],
   "source": [
    "eofs = eofs/area_weight[:,0]"
   ]
  },
  {
   "cell_type": "code",
   "execution_count": 29,
   "metadata": {},
   "outputs": [
    {
     "data": {
      "image/png": "[encoded data removed]",
      "text/plain": [
       "<Figure size 1080x504 with 2 Axes>"
      ]
     },
     "metadata": {
      "needs_background": "light"
     },
     "output_type": "display_data"
    }
   ],
   "source": [
    "#Plot EOF\n",
    "plt.figure(figsize=(15., 7.))\n",
    "\n",
    "x = linspace(-180, 180, 360)\n",
    "y = linspace(-90, 90, 180)\n",
    "\n",
    "xx, yy = meshgrid(x, y)\n",
    "\n",
    "\n",
    "mode = 0\n",
    "depth_ind = 30\n",
    "depth = depths[depth_ind]\n",
    "\n",
    "\n",
    "EOF1 = np.reshape(eofs[depth_ind *64800: (depth_ind+1) *64800, mode],(360,180))\n",
    "EOF1 = np.maximum(np.minimum(EOF1, .003), -.003)\n",
    "\n",
    "plt.contourf(xx, yy, EOF1.transpose(), 25 ,cmap = 'jet')\n",
    "plt.title('EOF mode '+ str(mode+1) + ' for '+month+' with depth of ' + str(depth) + 'm')\n",
    "plt.xlabel(\"Longitude\")\n",
    "plt.ylabel(\"Latitude\")\n",
    "\n",
    "cbar = plt.colorbar()\n",
    "cbar.formatter.set_powerlimits((0, 0))\n",
    "cbar.update_ticks()\n",
    "\n",
    "plt.show()"
   ]
  },
  {
   "cell_type": "code",
   "execution_count": 30,
   "metadata": {},
   "outputs": [],
   "source": [
    "pcs = solver.pcs()"
   ]
  },
  {
   "cell_type": "code",
   "execution_count": 31,
   "metadata": {},
   "outputs": [],
   "source": [
    "# Normalize\n",
    "for col_i in range(54):\n",
    "    pcs[:,col_i] = pcs[:,col_i] / np.linalg.norm(pcs[:,col_i])"
   ]
  },
  {
   "cell_type": "markdown",
   "metadata": {},
   "source": [
    "## Getting rid of NaN in anom"
   ]
  },
  {
   "cell_type": "markdown",
   "metadata": {},
   "source": [
    "NaN needs to be removed from the data to compute covariance, eigenvalues, and eigenvectors"
   ]
  },
  {
   "cell_type": "code",
   "execution_count": 21,
   "metadata": {},
   "outputs": [],
   "source": [
    "# find which indicies have data (are not NaN)\n",
    "na_rows = np.argwhere(np.isnan(weighted_A) == False)\n",
    "new_N = round(na_rows.shape[0]/54)"
   ]
  },
  {
   "cell_type": "code",
   "execution_count": 22,
   "metadata": {},
   "outputs": [],
   "source": [
    "# Because entire rows have NaN the indicies are repeated for every column (Year)\n",
    "# get rid of repeats to consolidate array which will give the row index without NaN\n",
    "num_rows = []\n",
    "count = 0\n",
    "for i in range(new_N):\n",
    "    num_rows.append(na_rows[i*Y,0])\n",
    "numrows = np.array(num_rows)"
   ]
  },
  {
   "cell_type": "code",
   "execution_count": 23,
   "metadata": {},
   "outputs": [
    {
     "data": {
      "text/plain": [
       "(1060928, 54)"
      ]
     },
     "execution_count": 23,
     "metadata": {},
     "output_type": "execute_result"
    }
   ],
   "source": [
    "# Create matrix with only values\n",
    "new_anom = np.empty((new_N,Y)) * np.nan\n",
    "for i in range(new_N):\n",
    "        new_anom[i,:] = weighted_A[numrows[i],:]\n",
    "new_anom = np.mat(new_anom)\n",
    "new_anom.shape"
   ]
  },
  {
   "cell_type": "code",
   "execution_count": 24,
   "metadata": {},
   "outputs": [
    {
     "data": {
      "text/plain": [
       "0.5116358024691358"
      ]
     },
     "execution_count": 24,
     "metadata": {},
     "output_type": "execute_result"
    }
   ],
   "source": [
    "# how much of the data is data?\n",
    "new_N/N"
   ]
  },
  {
   "cell_type": "markdown",
   "metadata": {},
   "source": [
    "## Compute Covariance"
   ]
  },
  {
   "cell_type": "markdown",
   "metadata": {},
   "source": [
    "see https://dlafarga.github.io/journal/python_start.html for specifics on calculation"
   ]
  },
  {
   "cell_type": "code",
   "execution_count": 25,
   "metadata": {},
   "outputs": [
    {
     "data": {
      "text/plain": [
       "(54, 54)"
      ]
     },
     "execution_count": 25,
     "metadata": {},
     "output_type": "execute_result"
    }
   ],
   "source": [
    "cov = (new_anom.T * new_anom)\n",
    "# should have Y by Y matrix\n",
    "cov.shape"
   ]
  },
  {
   "cell_type": "code",
   "execution_count": 26,
   "metadata": {},
   "outputs": [
    {
     "data": {
      "text/plain": [
       "matrix([[12479447.9737964 ,  8216532.8381861 ,  8286334.38409451, ...,\n",
       "         -4016254.80059654, -3994895.5484381 , -4375501.15455184],\n",
       "        [ 8216532.8381861 , 11522490.44915881,  8070364.44676579, ...,\n",
       "         -4129553.98471214, -3551293.05694059, -3838524.69411873],\n",
       "        [ 8286334.38409451,  8070364.44676579, 11417316.79527937, ...,\n",
       "         -4303059.01087142, -3453052.61342406, -3892832.76290234],\n",
       "        ...,\n",
       "        [-4016254.80059654, -4129553.98471214, -4303059.01087142, ...,\n",
       "          7062960.66268364,  2884105.35811014,  3438284.16373336],\n",
       "        [-3994895.5484381 , -3551293.05694059, -3453052.61342406, ...,\n",
       "          2884105.35811014,  9692944.25721008,  4951561.92572347],\n",
       "        [-4375501.15455184, -3838524.69411873, -3892832.76290234, ...,\n",
       "          3438284.16373336,  4951561.92572347,  8304272.93887467]])"
      ]
     },
     "execution_count": 26,
     "metadata": {},
     "output_type": "execute_result"
    }
   ],
   "source": [
    "cov"
   ]
  },
  {
   "cell_type": "markdown",
   "metadata": {},
   "source": [
    "## Computing Eigenvalues and Eigenvectors"
   ]
  },
  {
   "cell_type": "markdown",
   "metadata": {},
   "source": [
    "see https://dlafarga.github.io/journal/python_start.html for specifics on calculation"
   ]
  },
  {
   "cell_type": "markdown",
   "metadata": {},
   "source": [
    "important notes for np.linalg.eig:\n",
    "    \n",
    "    in  eigvals, eigvecs = np.linalg.eig(cov)\n",
    "    The eigenvalues are not necessarily ordered\n",
    "    the column eigves[:,i] is the eigenvector corresponding to the eigenvalue eigvals[i]."
   ]
  },
  {
   "cell_type": "code",
   "execution_count": 27,
   "metadata": {},
   "outputs": [],
   "source": [
    "eigvals, eigvecs = np.linalg.eig(cov)"
   ]
  },
  {
   "cell_type": "code",
   "execution_count": 28,
   "metadata": {},
   "outputs": [
    {
     "data": {
      "text/plain": [
       "(54, 54)"
      ]
     },
     "execution_count": 28,
     "metadata": {},
     "output_type": "execute_result"
    }
   ],
   "source": [
    "eigvecs = np.array(eigvecs)\n",
    "eigvecs.shape"
   ]
  },
  {
   "cell_type": "code",
   "execution_count": 29,
   "metadata": {},
   "outputs": [],
   "source": [
    "# Check to make sure vectors are orthogonal\n",
    "n, m = eigvecs.shape\n",
    "for col_i in range(m):\n",
    "    for col_j in range(m):\n",
    "        if col_i < col_j:  # use strictly less than because we don't want to consider a column with itself, and the dot product is commutable so order doesn't matter\n",
    "            is_orthogonal = np.dot(eigvecs[:, col_i], eigvecs[:, col_j])\n",
    "            if not np.isclose(is_orthogonal, 0):\n",
    "                raise ValueError(f\"Eigenvector {col_i} and Eigenvector {col_j} are not orthogonal.\")"
   ]
  },
  {
   "cell_type": "code",
   "execution_count": 30,
   "metadata": {},
   "outputs": [],
   "source": [
    "# checking magnitude of EOF. If magnitude is not one error will be raised\n",
    "for col_i in range(54):\n",
    "    is_one = np.linalg.norm(eigvecs[:,col_i])\n",
    "    if not np.isclose(is_one, 1):\n",
    "        raise ValueError(f\"EOF {col_i} is not one\")"
   ]
  },
  {
   "cell_type": "code",
   "execution_count": 31,
   "metadata": {},
   "outputs": [],
   "source": [
    "eigvecs = np.mat(eigvecs)"
   ]
  },
  {
   "cell_type": "markdown",
   "metadata": {},
   "source": [
    "Sorting Eigenvalues and Eigenvectors"
   ]
  },
  {
   "cell_type": "code",
   "execution_count": 32,
   "metadata": {},
   "outputs": [],
   "source": [
    "eig_index = np.argsort(eigvals)\n",
    "eig_index = np.flip(eig_index)"
   ]
  },
  {
   "cell_type": "code",
   "execution_count": 33,
   "metadata": {},
   "outputs": [],
   "source": [
    "new_eigvals = eigvals[eig_index[:]]\n",
    "eigvals = new_eigvals"
   ]
  },
  {
   "cell_type": "code",
   "execution_count": 34,
   "metadata": {},
   "outputs": [],
   "source": [
    "new_eigvecs = eigvecs[:,eig_index]\n",
    "eigvecs = new_eigvecs "
   ]
  },
  {
   "cell_type": "code",
   "execution_count": 35,
   "metadata": {},
   "outputs": [
    {
     "ename": "NameError",
     "evalue": "name 'pcs' is not defined",
     "output_type": "error",
     "traceback": [
      "\u001b[0;31m---------------------------------------------------------------------------\u001b[0m",
      "\u001b[0;31mNameError\u001b[0m                                 Traceback (most recent call last)",
      "\u001b[0;32m<ipython-input-35-f410a32f36b2>\u001b[0m in \u001b[0;36m<module>\u001b[0;34m\u001b[0m\n\u001b[1;32m     10\u001b[0m \u001b[0;34m\u001b[0m\u001b[0m\n\u001b[1;32m     11\u001b[0m \u001b[0max2\u001b[0m \u001b[0;34m=\u001b[0m \u001b[0max\u001b[0m\u001b[0;34m.\u001b[0m\u001b[0mtwinx\u001b[0m\u001b[0;34m(\u001b[0m\u001b[0;34m)\u001b[0m\u001b[0;34m\u001b[0m\u001b[0;34m\u001b[0m\u001b[0m\n\u001b[0;32m---> 12\u001b[0;31m \u001b[0mp2\u001b[0m\u001b[0;34m,\u001b[0m \u001b[0;34m=\u001b[0m \u001b[0mplt\u001b[0m\u001b[0;34m.\u001b[0m\u001b[0mplot\u001b[0m\u001b[0;34m(\u001b[0m\u001b[0mtime\u001b[0m\u001b[0;34m,\u001b[0m\u001b[0mpcs\u001b[0m\u001b[0;34m[\u001b[0m\u001b[0;34m:\u001b[0m\u001b[0;34m,\u001b[0m\u001b[0mmode\u001b[0m\u001b[0;34m]\u001b[0m\u001b[0;34m,\u001b[0m\u001b[0;34m'r'\u001b[0m\u001b[0;34m,\u001b[0m\u001b[0mmarker\u001b[0m \u001b[0;34m=\u001b[0m \u001b[0;34m'x'\u001b[0m\u001b[0;34m,\u001b[0m\u001b[0mlabel\u001b[0m \u001b[0;34m=\u001b[0m \u001b[0;34m'PC with SVD'\u001b[0m\u001b[0;34m)\u001b[0m\u001b[0;34m\u001b[0m\u001b[0;34m\u001b[0m\u001b[0m\n\u001b[0m\u001b[1;32m     13\u001b[0m \u001b[0max2\u001b[0m\u001b[0;34m.\u001b[0m\u001b[0mtick_params\u001b[0m\u001b[0;34m(\u001b[0m\u001b[0;34m'y'\u001b[0m\u001b[0;34m,\u001b[0m \u001b[0mcolors\u001b[0m\u001b[0;34m=\u001b[0m\u001b[0;34m'r'\u001b[0m\u001b[0;34m)\u001b[0m\u001b[0;34m\u001b[0m\u001b[0;34m\u001b[0m\u001b[0m\n\u001b[1;32m     14\u001b[0m \u001b[0max2\u001b[0m\u001b[0;34m.\u001b[0m\u001b[0mset_ylabel\u001b[0m\u001b[0;34m(\u001b[0m\u001b[0;34m\"PC with SVD\"\u001b[0m\u001b[0;34m)\u001b[0m\u001b[0;34m\u001b[0m\u001b[0;34m\u001b[0m\u001b[0m\n",
      "\u001b[0;31mNameError\u001b[0m: name 'pcs' is not defined"
     ]
    },
    {
     "data": {
      "image/png": "[encoded data removed]",
      "text/plain": [
       "<Figure size 432x288 with 2 Axes>"
      ]
     },
     "metadata": {
      "needs_background": "light"
     },
     "output_type": "display_data"
    }
   ],
   "source": [
    "mode = 2\n",
    "time = np.arange(1950,2004)\n",
    "\n",
    "fig, ax = plt.subplots()\n",
    "\n",
    "p1, = plt.plot(time, eigvecs[:,mode],'b', marker = 'o',label = 'PC with Cov')\n",
    "ax.set_ylabel(\"PC with Cov\")\n",
    "ax.yaxis.label.set_color('blue')\n",
    "ax.tick_params('y', colors='b')\n",
    "\n",
    "ax2 = ax.twinx()\n",
    "p2, = plt.plot(time,pcs[:,mode],'r',marker = 'x',label = 'PC with SVD')\n",
    "ax2.tick_params('y', colors='r')\n",
    "ax2.set_ylabel(\"PC with SVD\")\n",
    "ax2.yaxis.label.set_color('red')\n",
    "\n",
    "plt.legend(handles=[p1,p2],loc='center right')\n",
    "plt.title('PC ' + str(mode+1)+' for '+month+' depths of 0m to ' + str(depths[tot_depths-1]) + 'm')\n",
    "fig.set_size_inches(15., 7.)\n",
    "\n",
    "#plt.savefig(r'/Volumes/Elements/'+month+'depth2000/imgs/PC_'+str(mode+1))\n"
   ]
  },
  {
   "cell_type": "markdown",
   "metadata": {},
   "source": [
    "# Scree Plot"
   ]
  },
  {
   "cell_type": "code",
   "execution_count": 36,
   "metadata": {},
   "outputs": [],
   "source": [
    "num_eval = np.arange(eigvals.shape[0])+1"
   ]
  },
  {
   "cell_type": "code",
   "execution_count": 37,
   "metadata": {},
   "outputs": [],
   "source": [
    "cumulative_eval = np.cumsum(eigvals)"
   ]
  },
  {
   "cell_type": "code",
   "execution_count": 38,
   "metadata": {},
   "outputs": [
    {
     "data": {
      "image/png": "[encoded data removed]",
      "text/plain": [
       "<Figure size 1080x504 with 2 Axes>"
      ]
     },
     "metadata": {
      "needs_background": "light"
     },
     "output_type": "display_data"
    }
   ],
   "source": [
    "fig, ax = plt.subplots()\n",
    "\n",
    "\n",
    "p1, = plt.plot(num_eval,(eigvals/cumulative_eval[-1])*100, 'b',marker = 'o',label = 'Percentage Variance')\n",
    "ax.set_ylabel(\"Percentage Variance\")\n",
    "ax.yaxis.label.set_color('blue')\n",
    "ax.tick_params('y', colors='b')\n",
    "\n",
    "ax2 = ax.twinx()\n",
    "p2, = plt.plot(num_eval,(cumulative_eval/cumulative_eval[-1])*100,'r',marker = 'x',label = 'Cumulative Percentage Variance')\n",
    "ax2.tick_params('y', colors='r')\n",
    "ax2.set_ylabel(\"Cumulative Percentage Variance\")\n",
    "ax2.yaxis.label.set_color('red')\n",
    "\n",
    "plt.legend(handles=[p1,p2],loc='center right')\n",
    "plt.title('Scree Plot for '+month+' depths of 0m to ' + str(depths[tot_depths-1]) + 'm')\n",
    "fig.set_size_inches(15., 7.)\n",
    "#plt.savefig('/Users/danilafarga/Desktop/Thesis/3D_reconstruction/'+month+'/depth2000m/imgs/'+month+'_screePlot.png')"
   ]
  },
  {
   "cell_type": "markdown",
   "metadata": {},
   "source": [
    "## Find EOF"
   ]
  },
  {
   "cell_type": "markdown",
   "metadata": {},
   "source": [
    "see https://dlafarga.github.io/journal/python_start.html for specifics on calculation"
   ]
  },
  {
   "cell_type": "markdown",
   "metadata": {},
   "source": [
    "### A*v"
   ]
  },
  {
   "cell_type": "code",
   "execution_count": 39,
   "metadata": {},
   "outputs": [],
   "source": [
    "ev = eigvecs.T"
   ]
  },
  {
   "cell_type": "code",
   "execution_count": 40,
   "metadata": {},
   "outputs": [],
   "source": [
    "EOFs = []\n",
    "for j in range(Y):\n",
    "    EOFs.append(np.matmul(weighted_A , ev[j].T))"
   ]
  },
  {
   "cell_type": "code",
   "execution_count": 41,
   "metadata": {},
   "outputs": [],
   "source": [
    "EOF = np.array(EOFs)\n",
    "EOF = np.squeeze(EOF)"
   ]
  },
  {
   "cell_type": "code",
   "execution_count": 42,
   "metadata": {},
   "outputs": [
    {
     "data": {
      "text/plain": [
       "(2073600, 54)"
      ]
     },
     "execution_count": 42,
     "metadata": {},
     "output_type": "execute_result"
    }
   ],
   "source": [
    "EOF = EOF.T\n",
    "EOF.shape"
   ]
  },
  {
   "cell_type": "markdown",
   "metadata": {},
   "source": [
    "### Getting rid of NaN"
   ]
  },
  {
   "cell_type": "markdown",
   "metadata": {},
   "source": [
    "This is done to find magnitude of EOFs"
   ]
  },
  {
   "cell_type": "code",
   "execution_count": 43,
   "metadata": {
    "scrolled": true
   },
   "outputs": [],
   "source": [
    "na_rows = np.argwhere(np.isnan(EOF) == False)\n",
    "new_N = round(na_rows.shape[0]/54)"
   ]
  },
  {
   "cell_type": "code",
   "execution_count": 44,
   "metadata": {},
   "outputs": [
    {
     "data": {
      "text/plain": [
       "(1060928, 54)"
      ]
     },
     "execution_count": 44,
     "metadata": {},
     "output_type": "execute_result"
    }
   ],
   "source": [
    "new_EOF = np.empty((numrows.shape[0],Y))*np.nan\n",
    "for i in range(numrows.shape[0]):\n",
    "        new_EOF[i,:] = EOF[numrows[i],:]\n",
    "new_EOF = np.mat(new_EOF)\n",
    "new_EOF.shape"
   ]
  },
  {
   "cell_type": "markdown",
   "metadata": {},
   "source": [
    "### Find Magnitude and divide"
   ]
  },
  {
   "cell_type": "code",
   "execution_count": 45,
   "metadata": {},
   "outputs": [],
   "source": [
    "mag = np.linalg.norm(new_EOF, axis = 0)"
   ]
  },
  {
   "cell_type": "code",
   "execution_count": 46,
   "metadata": {},
   "outputs": [],
   "source": [
    "for i in range(Y):\n",
    "    EOF[:,i] = EOF[:,i]/mag[i]"
   ]
  },
  {
   "cell_type": "markdown",
   "metadata": {},
   "source": [
    "## Varifying Geometric EOFs"
   ]
  },
  {
   "cell_type": "code",
   "execution_count": 47,
   "metadata": {},
   "outputs": [
    {
     "data": {
      "text/plain": [
       "(1060928, 54)"
      ]
     },
     "execution_count": 47,
     "metadata": {},
     "output_type": "execute_result"
    }
   ],
   "source": [
    "new_EOF = np.empty((numrows.shape[0],Y))*np.nan \n",
    "for i in range(numrows.shape[0]):\n",
    "        new_EOF[i,:] = EOF[numrows[i],:]\n",
    "new_EOF.shape"
   ]
  },
  {
   "cell_type": "code",
   "execution_count": 48,
   "metadata": {},
   "outputs": [],
   "source": [
    "# Check to make sure vectors are orthogonal\n",
    "n, m = new_EOF.shape\n",
    "for col_i in range(m):\n",
    "    for col_j in range(m):\n",
    "        if col_i < col_j:  # use strictly less than because we don't want to consider a column with itself, and the dot product is commutable so order doesn't matter\n",
    "            is_orthogonal = np.dot(new_EOF[:, col_i], new_EOF[:, col_j])\n",
    "            if not np.isclose(is_orthogonal, 0) and col_j != 53:\n",
    "                pprint(f\"EOF Mode {col_i} and EOF Mode {col_j} are not orthogonal.\")\n",
    "                pprint(np.dot(new_EOF[:, col_i], new_EOF[:, col_j]))\n",
    "                "
   ]
  },
  {
   "cell_type": "code",
   "execution_count": 49,
   "metadata": {},
   "outputs": [],
   "source": [
    "# checking magnitude of EOF. If magnitude is not one error will be raised\n",
    "for col_i in range(54):\n",
    "    is_one = np.linalg.norm(new_EOF[:,col_i])\n",
    "    if not np.isclose(is_one, 1):\n",
    "        raise ValueError(f\"EOF {col_i} is not one\")"
   ]
  },
  {
   "cell_type": "code",
   "execution_count": 50,
   "metadata": {},
   "outputs": [
    {
     "name": "stdout",
     "output_type": "stream",
     "text": [
      "1.0000000000000173\n",
      "1.0000000000000169\n",
      "1.0000000000000264\n",
      "0.9999999999999756\n",
      "1.00000000000002\n",
      "0.9999999999999927\n",
      "1.0000000000000036\n",
      "0.9999999999999906\n",
      "1.0000000000000093\n",
      "0.9999999999999858\n",
      "0.9999999999999751\n",
      "0.999999999999964\n",
      "1.0000000000000098\n",
      "0.9999999999999909\n",
      "1.000000000000008\n",
      "0.9999999999999578\n",
      "0.9999999999999809\n",
      "0.9999999999999848\n",
      "1.0000000000000135\n",
      "0.9999999999999838\n",
      "1.000000000000003\n",
      "0.9999999999999943\n",
      "1.000000000000012\n",
      "0.9999999999999885\n",
      "1.0000000000000078\n",
      "1.000000000000022\n",
      "1.0000000000000173\n",
      "1.00000000000002\n",
      "0.9999999999999708\n",
      "0.9999999999999929\n",
      "1.0000000000000004\n",
      "0.9999999999999752\n",
      "0.9999999999999952\n",
      "0.9999999999999961\n",
      "0.999999999999995\n",
      "0.9999999999999485\n",
      "0.9999999999999855\n",
      "1.0000000000000213\n",
      "0.9999999999999527\n",
      "1.0000000000000315\n",
      "1.0000000000000167\n",
      "1.0000000000000129\n",
      "0.9999999999999887\n",
      "1.0000000000000082\n",
      "1.000000000000009\n",
      "1.0000000000000049\n",
      "0.9999999999999907\n",
      "1.0000000000000016\n",
      "1.0000000000000167\n",
      "0.9999999999999865\n",
      "0.9999999999999982\n",
      "1.0000000000000044\n",
      "1.0000000000000027\n",
      "1.0000000000000115\n"
     ]
    }
   ],
   "source": [
    "# Printing magnitude of EOF. Each should be 1\n",
    "for i in range (54):\n",
    "    EOF1 = np.mat(EOF[:,i])\n",
    "    nan_flag = np.isnan(EOF1)\n",
    "    EOF1_clean = EOF1[~nan_flag]\n",
    "    pprint(np.linalg.norm(EOF1_clean))"
   ]
  },
  {
   "cell_type": "markdown",
   "metadata": {},
   "source": [
    "Now that  we have computed geometric EOFs we need to compute Physical EOFs by dividing by the volume weights. "
   ]
  },
  {
   "cell_type": "markdown",
   "metadata": {},
   "source": [
    "## Write NC files"
   ]
  },
  {
   "cell_type": "markdown",
   "metadata": {},
   "source": [
    "## Saving Geometric EOFs \n",
    "#### these are the EOFs that ARE NOT divided by area weights"
   ]
  },
  {
   "cell_type": "code",
   "execution_count": 51,
   "metadata": {},
   "outputs": [],
   "source": [
    "import netCDF4 as nc \n",
    "fn = '/Volumes/Elements/1deg_calc/All_EOFs_nc/depth_5500/geom_EOFs/geom_EOF_'+month+'_depth_5500.nc'\n",
    "ds = nc.Dataset(fn, 'w', format='NETCDF4')"
   ]
  },
  {
   "cell_type": "code",
   "execution_count": 52,
   "metadata": {},
   "outputs": [
    {
     "data": {
      "text/plain": [
       "<class 'netCDF4._netCDF4.Dimension'>: name = 'N', size = 2073600"
      ]
     },
     "execution_count": 52,
     "metadata": {},
     "output_type": "execute_result"
    }
   ],
   "source": [
    "ds.createDimension('Z', 32)\n",
    "ds.createDimension('Y', 180)\n",
    "ds.createDimension('X', 360)\n",
    "ds.createDimension('t', 54)\n",
    "ds.createDimension('N', 2073600)"
   ]
  },
  {
   "cell_type": "code",
   "execution_count": 53,
   "metadata": {},
   "outputs": [],
   "source": [
    "lon = ds.createVariable('lon', 'float32', ('X', 'Y'))\n",
    "lat = ds.createVariable('lat', 'float32', ('X','Y'))\n",
    "Z = ds.createVariable('Z', 'float32', 'Z')\n",
    "EOFs = ds.createVariable('EOF', 'f4', ('N','t'))"
   ]
  },
  {
   "cell_type": "code",
   "execution_count": 54,
   "metadata": {},
   "outputs": [],
   "source": [
    "x = linspace(-180, 180, 360)\n",
    "y = linspace(-90, 90, 180)\n",
    "\n",
    "xx, yy = meshgrid(x, y)"
   ]
  },
  {
   "cell_type": "code",
   "execution_count": 55,
   "metadata": {},
   "outputs": [],
   "source": [
    "lon[:] = xx.T\n",
    "lat[:] = yy.T\n",
    "Z[:] = np.array(depths)\n",
    "EOFs[:] = EOF\n",
    "ds.close()"
   ]
  },
  {
   "cell_type": "markdown",
   "metadata": {},
   "source": [
    "## Saving Physical EOFs \n",
    "#### these are the EOFs that ARE divided by area weights"
   ]
  },
  {
   "cell_type": "code",
   "execution_count": 78,
   "metadata": {},
   "outputs": [],
   "source": [
    "EOF = EOF/area_weight[:,0]"
   ]
  },
  {
   "cell_type": "code",
   "execution_count": null,
   "metadata": {},
   "outputs": [],
   "source": [
    "fn = '/Volumes/Elements/1deg_calc/All_EOFs_nc/depth_5500/phys_EOFs/phys_EOF_'+month+'_depth_5500.nc'\n",
    "ds = nc.Dataset(fn, 'w', format='NETCDF4')"
   ]
  },
  {
   "cell_type": "code",
   "execution_count": null,
   "metadata": {},
   "outputs": [],
   "source": [
    "ds.createDimension('Z', 32)\n",
    "ds.createDimension('Y', 180)\n",
    "ds.createDimension('X', 360)\n",
    "ds.createDimension('t', 54)\n",
    "ds.createDimension('N', 2073600)"
   ]
  },
  {
   "cell_type": "code",
   "execution_count": null,
   "metadata": {},
   "outputs": [],
   "source": [
    "lon = ds.createVariable('lon', 'float32', ('X', 'Y'))\n",
    "lat = ds.createVariable('lat', 'float32', ('X','Y'))\n",
    "Z = ds.createVariable('Z', 'float32', 'Z')\n",
    "EOFs = ds.createVariable('EOF', 'f4', ('N','t'))"
   ]
  },
  {
   "cell_type": "code",
   "execution_count": null,
   "metadata": {},
   "outputs": [],
   "source": [
    "lon[:] = xx.T\n",
    "lat[:] = yy.T\n",
    "Z[:] = np.array(depths)\n",
    "EOFs[:] = EOF\n",
    "ds.close()"
   ]
  },
  {
   "cell_type": "markdown",
   "metadata": {},
   "source": [
    "## Plot  Physical EOF"
   ]
  },
  {
   "cell_type": "code",
   "execution_count": 58,
   "metadata": {},
   "outputs": [
    {
     "data": {
      "image/png": "[encoded data removed]",
      "text/plain": [
       "<Figure size 1080x504 with 2 Axes>"
      ]
     },
     "metadata": {
      "needs_background": "light"
     },
     "output_type": "display_data"
    }
   ],
   "source": [
    "#Plot EOF\n",
    "plt.figure(figsize=(15., 7.))\n",
    "\n",
    "x = linspace(0, 360, 360)\n",
    "y = linspace(-90, 90, 180)\n",
    "\n",
    "xx, yy = meshgrid(x, y)\n",
    "\n",
    "\n",
    "mode = 0\n",
    "depth_ind = 0\n",
    "depth = depths[depth_ind]\n",
    "\n",
    "\n",
    "EOF1 = np.reshape(EOF[depth_ind *64800: (depth_ind+1) *64800, mode],(360,180))\n",
    "EOF1 = np.maximum(np.minimum(EOF1, .001), -.001)\n",
    "\n",
    "plt.contourf(xx, yy, EOF1.transpose(), 25 ,cmap = 'jet')\n",
    "plt.title('EOF mode '+ str(mode+1) + ' for '+month+' with depth of ' + str(depth) + 'm')\n",
    "plt.xlabel(\"Longitude\")\n",
    "plt.ylabel(\"Latitude\")\n",
    "\n",
    "cbar = plt.colorbar()\n",
    "cbar.formatter.set_powerlimits((0, 0))\n",
    "cbar.update_ticks()\n",
    "\n",
    "plt.show()"
   ]
  },
  {
   "cell_type": "code",
   "execution_count": 73,
   "metadata": {},
   "outputs": [],
   "source": [
    "os.chdir(r'/Users/danilafarga/Desktop/Thesis/3D_reconstruction/')\n",
    "np.savetxt('EOF_'+month+'_depth_'+ str(depths[tot_depths-1]) +'.txt',EOF)"
   ]
  },
  {
   "cell_type": "code",
   "execution_count": null,
   "metadata": {},
   "outputs": [],
   "source": []
  }
 ],
 "metadata": {
  "kernelspec": {
   "display_name": "Python 3",
   "language": "python",
   "name": "python3"
  },
  "language_info": {
   "codemirror_mode": {
    "name": "ipython",
    "version": 3
   },
   "file_extension": ".py",
   "mimetype": "text/x-python",
   "name": "python",
   "nbconvert_exporter": "python",
   "pygments_lexer": "ipython3",
   "version": "3.8.3"
  }
 },
 "nbformat": 4,
 "nbformat_minor": 4
}
