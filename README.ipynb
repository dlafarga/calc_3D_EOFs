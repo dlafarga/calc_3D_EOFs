{
 "cells": [
  {
   "cell_type": "markdown",
   "metadata": {},
   "source": [
    "# 3D EOF Computation\n",
    "Program by: Danielle Lafarga\\\n",
    "Program created as part of NERTO project in May 2021\n",
    "\n",
    "The following code is used to compute EOFs using temporal covariance. The program already assumes that the data had been read in and formated to a N by y data matrix called data_T where N is the total number of grid points (Lat x Long x Depth) and Y is the total amount of time steps. The process then goes as follows:\n",
    "\n",
    "1. Climatology, standard deviation, and anomalies are computed from data_T \n",
    "2. Area weights are added to the anomaliies \n",
    "3. Temporal covariance is computed from the weighted anomalies. \n",
    "    -Note: it is important that prior to computing covariance the weighted anomalies are rid of NaNs and in a matrix that is N' by Y where N' is the new number of gridpoints without NaNs. \n",
    "4. Eigenvalues and eigenvectors are computed from temporal covariance\n",
    "5. EOFs are computed using\n",
    "$EOF =\\frac{A \\vec{v}}{norm(A \\vec{v})} $\n",
    "\n",
    "\n",
    "    where:\n",
    "        - EOF are the EOFs in a N by Y matrix where each column is the mode\n",
    "        - A are the weighted anomalies in an N by Y matrix \n",
    "        - v are the sorted eigenvectors of shape 1 by N computed from temporal covariance\n",
    "\n",
    "Important Variables:\n",
    "- N: total number of grid points. Should be \n",
    "    - $N = latitude \\times longitude \\times depths$\n",
    "- Y: total number of time steps. For example if data is taken monthly for 54 years then Y = 54 as this is only done for the respective month. \n",
    "- data_T: N by Y matrix with data\n",
    "- clim_sdev: N by 2 marix with CLimatology and Standard deviation in the first and second column respectively \n",
    "- anom: N by Y matrix with anomalies\n",
    "- stnd_anom: N by Y matrix with standardized anomalies\n",
    "- x: Longitutde values\n",
    "- y: Latitude values \n",
    "- area_weight: N by 1 array with area weights \n",
    "- cov: temporal Covariance Y by Y matrix\n",
    "- eigvecs: eigenvectors computed from cov. These are all put into a matrix of size Y by Y with every column as the eigenvector\n",
    "- ev: eigenvectors computed from cov. These are all put into a matrix of size Y by Y with every row as the eigenvector\n",
    "- eigvals: eigenvalues computed from cov. \n",
    "- EOF: N by Y EOF matrix where every column is the mode \n",
    "\n",
    "\n",
    "the entire break down of the code can be found on https://dlafarga.github.io/journal/Covarianceintime.html\n",
    "This includes the proof for this computation. If you have any further questions please reach out to me at dlafarga9505@sdsu.edu\n"
   ]
  },
  {
   "cell_type": "code",
   "execution_count": null,
   "metadata": {},
   "outputs": [],
   "source": []
  }
 ],
 "metadata": {
  "kernelspec": {
   "display_name": "Python 3",
   "language": "python",
   "name": "python3"
  },
  "language_info": {
   "codemirror_mode": {
    "name": "ipython",
    "version": 3
   },
   "file_extension": ".py",
   "mimetype": "text/x-python",
   "name": "python",
   "nbconvert_exporter": "python",
   "pygments_lexer": "ipython3",
   "version": "3.8.3"
  }
 },
 "nbformat": 4,
 "nbformat_minor": 4
}
